{
 "cells": [
  {
   "cell_type": "markdown",
   "id": "0b34f90b-ce2f-4683-9f59-4147364bdb19",
   "metadata": {},
   "source": [
    "# Data Science Tools and Ecosytem\n",
    "**In this notebook, data Science Tools and Ecosytems are summarized.**"
   ]
  },
  {
   "cell_type": "markdown",
   "id": "5f681784-3ffc-45c8-a92b-0b057195c5da",
   "metadata": {},
   "source": [
    "**Objectives:**\n",
    "\n",
    "- Some of the popular languages that data scientists use.\n",
    "- Some of the commonly used libraries used by Data Scientists.\n",
    "- Data science tools.\n",
    "- Evaluating arithmetic expressions using Python."
   ]
  },
  {
   "cell_type": "markdown",
   "id": "76736e06-0820-49ed-be0e-34815fde08d0",
   "metadata": {},
   "source": [
    "Some of the popular languages that data Scientists use are:\n",
    "\n",
    "1. Python\n",
    "2. SQL\n",
    "3. Julia\n",
    "4. Scala\n",
    "\n"
   ]
  },
  {
   "cell_type": "markdown",
   "id": "23526f59-4b0d-404b-9e26-ffc7d29c07c0",
   "metadata": {
    "tags": []
   },
   "source": [
    "Some of the commonly used libraries used by Data Scientists includes:\n",
    "\n",
    "1. NumPy\n",
    "2. Matplotlib\n",
    "3. Pandas\n",
    "4. TensorFlow\n",
    "5. Scikit-learn\n",
    "6. SciPy\n",
    "7. PyTorch\n"
   ]
  },
  {
   "cell_type": "markdown",
   "id": "fc5faed9-b429-41d3-8a64-4d169176c455",
   "metadata": {
    "tags": []
   },
   "source": [
    "\n",
    "\n",
    "|Data Science Tools|\n",
    "|------------------|\n",
    "|RStudio|\n",
    "|Apache Spark|\n",
    "|TensorFlow|"
   ]
  },
  {
   "cell_type": "markdown",
   "id": "8722fee0-d07f-4e56-b505-d7000e2a999f",
   "metadata": {},
   "source": [
    "### Below are a few examples of evaluating arithmetic expressions in Python"
   ]
  },
  {
   "cell_type": "code",
   "execution_count": 11,
   "id": "c9c07954-1e4f-4254-919b-5531d8248726",
   "metadata": {},
   "outputs": [
    {
     "data": {
      "text/plain": [
       "17"
      ]
     },
     "execution_count": 11,
     "metadata": {},
     "output_type": "execute_result"
    }
   ],
   "source": [
    "(3*4)+5"
   ]
  },
  {
   "cell_type": "markdown",
   "id": "0d2d2b28-52f8-4f7c-887f-0bb98da19ba1",
   "metadata": {},
   "source": [
    "This a simple arithmetic expression to multiply the add intergers."
   ]
  },
  {
   "cell_type": "code",
   "execution_count": null,
   "id": "e5b14f91-d7d4-4989-9282-26813fd856c6",
   "metadata": {},
   "outputs": [],
   "source": []
  },
  {
   "cell_type": "markdown",
   "id": "f211c279-c1ca-4d4c-9f56-8b5953a1379a",
   "metadata": {},
   "source": [
    "This will convert 200 minutes to hours by deviding by 60."
   ]
  },
  {
   "cell_type": "code",
   "execution_count": 18,
   "id": "ee19705c-d0cc-4a5c-868e-4bca00f71a17",
   "metadata": {},
   "outputs": [
    {
     "data": {
      "text/plain": [
       "3.3333333333333335"
      ]
     },
     "execution_count": 18,
     "metadata": {},
     "output_type": "execute_result"
    }
   ],
   "source": [
    "200/60 \n"
   ]
  },
  {
   "cell_type": "markdown",
   "id": "7b69b17e-ede7-4495-b7a0-e5f86eb097c0",
   "metadata": {},
   "source": [
    "## Author\n",
    "\n",
    "Joaky Bandzo"
   ]
  },
  {
   "cell_type": "code",
   "execution_count": null,
   "id": "cebd5830-9613-43c4-b8d6-aed109830988",
   "metadata": {},
   "outputs": [],
   "source": []
  }
 ],
 "metadata": {
  "kernelspec": {
   "display_name": "Python 3 (ipykernel)",
   "language": "python",
   "name": "python3"
  },
  "language_info": {
   "codemirror_mode": {
    "name": "ipython",
    "version": 3
   },
   "file_extension": ".py",
   "mimetype": "text/x-python",
   "name": "python",
   "nbconvert_exporter": "python",
   "pygments_lexer": "ipython3",
   "version": "3.9.13"
  }
 },
 "nbformat": 4,
 "nbformat_minor": 5
}
